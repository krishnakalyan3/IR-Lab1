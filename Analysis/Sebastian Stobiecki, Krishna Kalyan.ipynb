{
 "cells": [
  {
   "cell_type": "code",
   "execution_count": 154,
   "metadata": {
    "collapsed": true
   },
   "outputs": [],
   "source": [
    "%matplotlib inline\n",
    "from scipy.optimize import curve_fit\n",
    "import pandas as pd\n",
    "import seaborn as sns\n",
    "import matplotlib.pyplot as plt\n",
    "import math \n",
    "sns.set_style(\"darkgrid\")"
   ]
  },
  {
   "cell_type": "markdown",
   "metadata": {},
   "source": [
    "##### Pre Prcessing Steps Done:\n",
    "- Create index using novels corpus.\n",
    "- Use the java program `CountWords3.java` to get all the terms in novels corpus contains with their counts.\n",
    "- Remove Numbers\n",
    "- Remove Urls\n",
    "- Remove Dates\n",
    "- Remove long tail of 1s\n",
    "\n"
   ]
  },
  {
   "cell_type": "code",
   "execution_count": 155,
   "metadata": {
    "collapsed": false
   },
   "outputs": [
    {
     "data": {
      "text/html": [
       "<div style=\"max-height:1000px;max-width:1500px;overflow:auto;\">\n",
       "<table border=\"1\" class=\"dataframe\">\n",
       "  <thead>\n",
       "    <tr style=\"text-align: right;\">\n",
       "      <th></th>\n",
       "      <th>word</th>\n",
       "      <th>frequency</th>\n",
       "      <th>rank</th>\n",
       "    </tr>\n",
       "  </thead>\n",
       "  <tbody>\n",
       "    <tr>\n",
       "      <th>0</th>\n",
       "      <td>   i</td>\n",
       "      <td> 37789</td>\n",
       "      <td> 1</td>\n",
       "    </tr>\n",
       "    <tr>\n",
       "      <th>1</th>\n",
       "      <td>  he</td>\n",
       "      <td> 27976</td>\n",
       "      <td> 2</td>\n",
       "    </tr>\n",
       "    <tr>\n",
       "      <th>2</th>\n",
       "      <td> his</td>\n",
       "      <td> 27824</td>\n",
       "      <td> 3</td>\n",
       "    </tr>\n",
       "    <tr>\n",
       "      <th>3</th>\n",
       "      <td> had</td>\n",
       "      <td> 20869</td>\n",
       "      <td> 4</td>\n",
       "    </tr>\n",
       "    <tr>\n",
       "      <th>4</th>\n",
       "      <td> you</td>\n",
       "      <td> 17540</td>\n",
       "      <td> 5</td>\n",
       "    </tr>\n",
       "  </tbody>\n",
       "</table>\n",
       "</div>"
      ],
      "text/plain": [
       "  word  frequency  rank\n",
       "0    i      37789     1\n",
       "1   he      27976     2\n",
       "2  his      27824     3\n",
       "3  had      20869     4\n",
       "4  you      17540     5"
      ]
     },
     "execution_count": 155,
     "metadata": {},
     "output_type": "execute_result"
    }
   ],
   "source": [
    "header_row = ['word','frequency']\n",
    "data = pd.read_table('../Data/CountWordsNovels_v1.txt', sep =' ',names=header_row)\n",
    "# Add plus 1 to the rank since index starts from 0\n",
    "data['rank'] = data.index + 1\n",
    "data.head()"
   ]
  },
  {
   "cell_type": "markdown",
   "metadata": {},
   "source": [
    "###### Zips Law\n",
    "`f(x) =  c * (rank + b) ^ a`\n",
    "\n",
    "We checked different values for parameter `b` to estimate the best value for our model."
   ]
  },
  {
   "cell_type": "code",
   "execution_count": 156,
   "metadata": {
    "collapsed": false
   },
   "outputs": [],
   "source": [
    "def zipf(rank,c,b,a):\n",
    "    # Hardcoded the value of b as 5, (using b instead of 5 curve fit give us invalid values)\n",
    "    return c * (rank + 10) ** a\n",
    "popt, pcov = curve_fit(zipf, data['rank'], data['frequency'])"
   ]
  },
  {
   "cell_type": "code",
   "execution_count": 157,
   "metadata": {
    "collapsed": false
   },
   "outputs": [
    {
     "data": {
      "text/plain": [
       "[<matplotlib.lines.Line2D at 0x1137aa550>]"
      ]
     },
     "execution_count": 157,
     "metadata": {},
     "output_type": "execute_result"
    },
    {
     "data": {
      "image/png": "[encoded data removed]",
      "text/plain": [
       "<matplotlib.figure.Figure at 0x116297690>"
      ]
     },
     "metadata": {},
     "output_type": "display_data"
    }
   ],
   "source": [
    "plt.title('Zipfs Law ')\n",
    "plt.xlabel('Rank')\n",
    "plt.ylabel('Frequency')\n",
    "plt.yscale('log')\n",
    "plt.xscale('log')\n",
    "plt.plot(data['rank'], data['frequency'], 'ko')\n",
    "plt.plot(data['rank'], zipf(data['rank'],*popt))"
   ]
  },
  {
   "cell_type": "code",
   "execution_count": 158,
   "metadata": {
    "collapsed": false
   },
   "outputs": [
    {
     "name": "stdout",
     "output_type": "stream",
     "text": [
      "Estimated Values \n",
      "a = 394749.592424 \n",
      "b = 10 \n",
      "c = -1.10008529515\n"
     ]
    }
   ],
   "source": [
    "print \"Estimated Values \\na =\", popt[0],\"\\nb =\", 10,\"\\nc =\", popt[2]"
   ]
  },
  {
   "cell_type": "markdown",
   "metadata": {},
   "source": [
    "Most Frequent terms and the tail are noisy, even though the model fits the data and satisfies Zips Law. "
   ]
  },
  {
   "cell_type": "markdown",
   "metadata": {},
   "source": [
    "###### Heaps Law\n",
    "d = k * N ^ beta \n",
    "\n",
    "##### Pre Prcessing Steps Done:\n",
    "- Create indices containing different numbers of novels 5,10,15,20,25,30,33\n",
    "- Use the java program `CountWords3.java` to count the total number of words in each index, and the number of different words in each. \n",
    "- Summarize this result in `Occurences.txt`."
   ]
  },
  {
   "cell_type": "code",
   "execution_count": 159,
   "metadata": {
    "collapsed": false
   },
   "outputs": [
    {
     "data": {
      "text/html": [
       "<div style=\"max-height:1000px;max-width:1500px;overflow:auto;\">\n",
       "<table border=\"1\" class=\"dataframe\">\n",
       "  <thead>\n",
       "    <tr style=\"text-align: right;\">\n",
       "      <th></th>\n",
       "      <th>Number of novels</th>\n",
       "      <th>Distinct words</th>\n",
       "      <th>Word occurrences</th>\n",
       "    </tr>\n",
       "  </thead>\n",
       "  <tbody>\n",
       "    <tr>\n",
       "      <th>0</th>\n",
       "      <td>  5</td>\n",
       "      <td> 23866</td>\n",
       "      <td>  504762</td>\n",
       "    </tr>\n",
       "    <tr>\n",
       "      <th>1</th>\n",
       "      <td> 10</td>\n",
       "      <td> 27827</td>\n",
       "      <td>  622554</td>\n",
       "    </tr>\n",
       "    <tr>\n",
       "      <th>2</th>\n",
       "      <td> 15</td>\n",
       "      <td> 34224</td>\n",
       "      <td>  947652</td>\n",
       "    </tr>\n",
       "    <tr>\n",
       "      <th>3</th>\n",
       "      <td> 20</td>\n",
       "      <td> 40351</td>\n",
       "      <td> 1146950</td>\n",
       "    </tr>\n",
       "    <tr>\n",
       "      <th>4</th>\n",
       "      <td> 25</td>\n",
       "      <td> 55392</td>\n",
       "      <td> 1661664</td>\n",
       "    </tr>\n",
       "  </tbody>\n",
       "</table>\n",
       "</div>"
      ],
      "text/plain": [
       "   Number of novels  Distinct words  Word occurrences\n",
       "0                 5           23866            504762\n",
       "1                10           27827            622554\n",
       "2                15           34224            947652\n",
       "3                20           40351           1146950\n",
       "4                25           55392           1661664"
      ]
     },
     "execution_count": 159,
     "metadata": {},
     "output_type": "execute_result"
    }
   ],
   "source": [
    "heaps_data = pd.read_table('../Data/Occurences.txt', sep =',')\n",
    "heaps_data.head()"
   ]
  },
  {
   "cell_type": "code",
   "execution_count": 160,
   "metadata": {
    "collapsed": true
   },
   "outputs": [],
   "source": [
    "def heaps(x, K, b):\n",
    "    return K * x ** b\n",
    "popt1, pcov1 = curve_fit(heaps, heaps_data['Word occurrences'], heaps_data['Distinct words'])"
   ]
  },
  {
   "cell_type": "code",
   "execution_count": 161,
   "metadata": {
    "collapsed": false
   },
   "outputs": [
    {
     "data": {
      "text/plain": [
       "[<matplotlib.lines.Line2D at 0x1173b3990>]"
      ]
     },
     "execution_count": 161,
     "metadata": {},
     "output_type": "execute_result"
    },
    {
     "data": {
      "image/png": "[encoded data removed]",
      "text/plain": [
       "<matplotlib.figure.Figure at 0x114691f90>"
      ]
     },
     "metadata": {},
     "output_type": "display_data"
    }
   ],
   "source": [
    "plt.title('Heaps Law')\n",
    "plt.ylabel('Distinct Words')\n",
    "plt.xlabel('Total Number of words in the corpus')\n",
    "plt.plot(heaps_data['Word occurrences'], heaps_data['Distinct words'], 'ko')\n",
    "plt.plot(heaps_data['Word occurrences'], heaps(heaps_data['Word occurrences'],*popt1))"
   ]
  },
  {
   "cell_type": "code",
   "execution_count": 162,
   "metadata": {
    "collapsed": false
   },
   "outputs": [
    {
     "name": "stdout",
     "output_type": "stream",
     "text": [
      "Estimated Values \n",
      "k =  2.34317753123 \n",
      "beta = 0.700676171957\n"
     ]
    }
   ],
   "source": [
    "print \"Estimated Values \\nk = \", popt1[0],\"\\nbeta =\", popt1[1]"
   ]
  },
  {
   "cell_type": "markdown",
   "metadata": {},
   "source": [
    "Our model fits the data well and satisfies Heaps Law."
   ]
  }
 ],
 "metadata": {
  "kernelspec": {
   "display_name": "Python 2",
   "language": "python",
   "name": "python2"
  },
  "language_info": {
   "codemirror_mode": {
    "name": "ipython",
    "version": 2
   },
   "file_extension": ".py",
   "mimetype": "text/x-python",
   "name": "python",
   "nbconvert_exporter": "python",
   "pygments_lexer": "ipython2",
   "version": "2.7.9"
  }
 },
 "nbformat": 4,
 "nbformat_minor": 0
}
