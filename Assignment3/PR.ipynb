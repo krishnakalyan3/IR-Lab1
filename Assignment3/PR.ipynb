{
 "cells": [
  {
   "cell_type": "code",
   "execution_count": 190,
   "metadata": {
    "collapsed": true
   },
   "outputs": [],
   "source": [
    "# Loading python libraries\n",
    "from __future__ import division\n",
    "import csv\n",
    "import pandas as pd\n",
    "import numpy as np\n",
    "import networkx as nx"
   ]
  },
  {
   "cell_type": "code",
   "execution_count": 191,
   "metadata": {
    "collapsed": true
   },
   "outputs": [],
   "source": [
    "# PreProcessing of airports.txt using bash awk:\n",
    "# Remove double quotes in airports.txt, Reason -> better readability when put in python dictionary\n",
    "# ('\"Info\"') -> messy, ('Info') -> more readable"
   ]
  },
  {
   "cell_type": "code",
   "execution_count": 192,
   "metadata": {
    "collapsed": false
   },
   "outputs": [],
   "source": [
    "# List of airports with only IATA label\n",
    "airports = []\n",
    "with open('/home/kopsor/FIB/IR/lab3/airport.txt') as file:\n",
    "    for line in file:\n",
    "        a = line.split(',')\n",
    "        airports.append(a[4])\n",
    "\n",
    "# We clear the airports of empty IATA codes,then order them\n",
    "# and finally map the airport codes with integers in a map\n",
    "\n",
    "airports = filter(lambda a: a != '', airports)\n",
    "airports.sort()\n",
    "airports = dict((air, airports.index(air)) for air in airports)\n",
    "air = range(0,len(airports))\n"
   ]
  },
  {
   "cell_type": "code",
   "execution_count": 193,
   "metadata": {
    "collapsed": false
   },
   "outputs": [
    {
     "name": "stdout",
     "output_type": "stream",
     "text": [
      "528 Routes rejected\n"
     ]
    }
   ],
   "source": [
    "# Put the routes into list of tuples where tuple\n",
    "# looks like this (source, destination)\n",
    "# and we mapped the IATA string to integers\n",
    "# so we have (int, int) instead of (string, string)\n",
    "# we did this because of better operations with graph data strcture\n",
    "\n",
    "routes = []\n",
    "incomplete = 0\n",
    "with open('/home/kopsor/FIB/IR/lab3/routes.txt') as file:\n",
    "    for line in file:\n",
    "        r = line.split(',')\n",
    "        try:\n",
    "            source = airports[r[2]]\n",
    "            destination = airports[r[4]]\n",
    "            routes.append((source,destination))\n",
    "        except:\n",
    "            incomplete += 1\n",
    "\n",
    "# Some of the routes were rejected, because IATA codes\n",
    "# from routes file were not present in airport file            \n",
    "print incomplete, \"Routes rejected\""
   ]
  },
  {
   "cell_type": "code",
   "execution_count": 194,
   "metadata": {
    "collapsed": false
   },
   "outputs": [],
   "source": [
    "# We used directed graph\n",
    "\n",
    "G = nx.DiGraph()\n",
    "G.add_nodes_from(air)\n",
    "G.add_edges_from(routes,weight=0)\n",
    "\n",
    "# Calculate weight for each edge\n",
    "# weight is the number of flights from the same src to same dst\n",
    "for route in routes:\n",
    "    G[route[0]][route[1]][\"weight\"] += 1\n",
    "\n",
    "# Calculate the sum of weights of outgoing edges for each node \n",
    "n = len(airports)\n",
    "out = np.zeros(n)\n",
    "for i in range(n):\n",
    "    out_edges = G.out_edges(i) \n",
    "    if not out_edges:\n",
    "        continue\n",
    "    # i - source of edge edge[1] - destination of edge\n",
    "    out[i] = sum(G[i][edge[1]][\"weight\"] for edge in out_edges) "
   ]
  },
  {
   "cell_type": "code",
   "execution_count": 197,
   "metadata": {
    "collapsed": false
   },
   "outputs": [
    {
     "name": "stdout",
     "output_type": "stream",
     "text": [
      "Sum of P before  1.0\n",
      "Number of iterations  15\n",
      "Sum of P after  1.00385700325\n"
     ]
    }
   ],
   "source": [
    "# Here we have the pagerank algorithm\n",
    "# at first we try to do it with n*n matrix\n",
    "# but it took 20 - 30 mins :D but then we have optimized it\n",
    "# with graph (takes only 5 - 10 seconds)\n",
    "\n",
    "iters = 0\n",
    "error_limit = 10**-8\n",
    "n = len(airports)\n",
    "P = np.ones(n)/n\n",
    "L = 0.85\n",
    "converged = False\n",
    "\n",
    "print \"Sum of P before \", sum(P)\n",
    "\n",
    "while not converged:\n",
    "    iters += 1\n",
    "    Q = np.zeros(n)\n",
    "    for i in range(0,n):\n",
    "        in_edges = G.in_edges(i) \n",
    "        if not in_edges:\n",
    "            Q[i] = P[i]\n",
    "            continue\n",
    "        destinations = [destination[0] for destination in in_edges]   \n",
    "        Q[i] = L * sum(P[j] * G[j][i][\"weight\"] / out[j] \n",
    "                       for j in destinations\n",
    "                       if G.has_edge(j,i)) + (1-L)/n\n",
    "    \n",
    "    error = np.linalg.norm(Q - P)\n",
    "    if (error <= (n * error_limit)):\n",
    "        converged = True\n",
    "    \n",
    "    P = Q\n",
    "    \n",
    "    \n",
    "print \"Number of iterations \", iters    \n",
    "print \"Sum of P after \", sum(P)"
   ]
  },
  {
   "cell_type": "code",
   "execution_count": 198,
   "metadata": {
    "collapsed": false
   },
   "outputs": [],
   "source": [
    "# Here we create list of python dictionaries,\n",
    "# in each dict there is info about certain airfield\n",
    "\n",
    "airports_info = []\n",
    "with open('/home/kopsor/FIB/IR/lab3/airport.txt') as file:\n",
    "    for line in file:\n",
    "        a = line.split(',')\n",
    "        airports_info.append({\"pagerank\":0, \"IATA\":a[4], \"airport\":a[1] ,\"city\":a[2] ,\"country\":a[3]})"
   ]
  },
  {
   "cell_type": "code",
   "execution_count": 199,
   "metadata": {
    "collapsed": false
   },
   "outputs": [],
   "source": [
    "# We map the pagerank score to specific airfields\n",
    "\n",
    "for a in airports_info:\n",
    "    try:\n",
    "        score = P[airports[a[\"IATA\"]]]\n",
    "        a[\"pagerank\"] = score\n",
    "    except:\n",
    "        pass"
   ]
  },
  {
   "cell_type": "code",
   "execution_count": 201,
   "metadata": {
    "collapsed": false,
    "scrolled": true
   },
   "outputs": [
    {
     "name": "stderr",
     "output_type": "stream",
     "text": [
      "/home/kopsor/.local/lib/python2.7/site-packages/ipykernel/__main__.py:4: FutureWarning: sort(columns=....) is deprecated, use sort_values(by=.....)\n"
     ]
    },
    {
     "data": {
      "text/html": [
       "<div>\n",
       "<table border=\"1\" class=\"dataframe\">\n",
       "  <thead>\n",
       "    <tr style=\"text-align: right;\">\n",
       "      <th></th>\n",
       "      <th>IATA</th>\n",
       "      <th>airport</th>\n",
       "      <th>city</th>\n",
       "      <th>country</th>\n",
       "      <th>pagerank</th>\n",
       "    </tr>\n",
       "  </thead>\n",
       "  <tbody>\n",
       "    <tr>\n",
       "      <th>3385</th>\n",
       "      <td>LAX</td>\n",
       "      <td>Los Angeles Intl</td>\n",
       "      <td>Los Angeles</td>\n",
       "      <td>United States</td>\n",
       "      <td>0.003579</td>\n",
       "    </tr>\n",
       "    <tr>\n",
       "      <th>3731</th>\n",
       "      <td>ORD</td>\n",
       "      <td>Chicago Ohare Intl</td>\n",
       "      <td>Chicago</td>\n",
       "      <td>United States</td>\n",
       "      <td>0.003570</td>\n",
       "    </tr>\n",
       "    <tr>\n",
       "      <th>3652</th>\n",
       "      <td>DEN</td>\n",
       "      <td>Denver Intl</td>\n",
       "      <td>Denver</td>\n",
       "      <td>United States</td>\n",
       "      <td>0.003557</td>\n",
       "    </tr>\n",
       "    <tr>\n",
       "      <th>503</th>\n",
       "      <td>LHR</td>\n",
       "      <td>Heathrow</td>\n",
       "      <td>London</td>\n",
       "      <td>United Kingdom</td>\n",
       "      <td>0.002787</td>\n",
       "    </tr>\n",
       "    <tr>\n",
       "      <th>3222</th>\n",
       "      <td>SIN</td>\n",
       "      <td>Changi Intl</td>\n",
       "      <td>Singapore</td>\n",
       "      <td>Singapore</td>\n",
       "      <td>0.002753</td>\n",
       "    </tr>\n",
       "  </tbody>\n",
       "</table>\n",
       "</div>"
      ],
      "text/plain": [
       "     IATA             airport         city         country  pagerank\n",
       "3385  LAX    Los Angeles Intl  Los Angeles   United States  0.003579\n",
       "3731  ORD  Chicago Ohare Intl      Chicago   United States  0.003570\n",
       "3652  DEN         Denver Intl       Denver   United States  0.003557\n",
       "503   LHR            Heathrow       London  United Kingdom  0.002787\n",
       "3222  SIN         Changi Intl    Singapore       Singapore  0.002753"
      ]
     },
     "execution_count": 201,
     "metadata": {},
     "output_type": "execute_result"
    }
   ],
   "source": [
    "# We put the results into pandas dataframe for better viewing of results\n",
    "\n",
    "df = pd.DataFrame(airports_info)\n",
    "df = df.sort([\"pagerank\"], ascending=[0])\n",
    "df.head()"
   ]
  },
  {
   "cell_type": "code",
   "execution_count": 202,
   "metadata": {
    "collapsed": false
   },
   "outputs": [
    {
     "name": "stderr",
     "output_type": "stream",
     "text": [
      "/home/kopsor/.local/lib/python2.7/site-packages/ipykernel/__main__.py:12: FutureWarning: sort(columns=....) is deprecated, use sort_values(by=.....)\n"
     ]
    },
    {
     "data": {
      "text/html": [
       "<div>\n",
       "<table border=\"1\" class=\"dataframe\">\n",
       "  <thead>\n",
       "    <tr style=\"text-align: right;\">\n",
       "      <th></th>\n",
       "      <th>IATA</th>\n",
       "      <th>airport</th>\n",
       "      <th>city</th>\n",
       "      <th>country</th>\n",
       "      <th>pagerank</th>\n",
       "    </tr>\n",
       "  </thead>\n",
       "  <tbody>\n",
       "    <tr>\n",
       "      <th>3385</th>\n",
       "      <td>LAX</td>\n",
       "      <td>Los Angeles Intl</td>\n",
       "      <td>Los Angeles</td>\n",
       "      <td>United States</td>\n",
       "      <td>0.005595</td>\n",
       "    </tr>\n",
       "    <tr>\n",
       "      <th>3731</th>\n",
       "      <td>ORD</td>\n",
       "      <td>Chicago Ohare Intl</td>\n",
       "      <td>Chicago</td>\n",
       "      <td>United States</td>\n",
       "      <td>0.005565</td>\n",
       "    </tr>\n",
       "    <tr>\n",
       "      <th>3652</th>\n",
       "      <td>DEN</td>\n",
       "      <td>Denver Intl</td>\n",
       "      <td>Denver</td>\n",
       "      <td>United States</td>\n",
       "      <td>0.005555</td>\n",
       "    </tr>\n",
       "    <tr>\n",
       "      <th>503</th>\n",
       "      <td>LHR</td>\n",
       "      <td>Heathrow</td>\n",
       "      <td>London</td>\n",
       "      <td>United Kingdom</td>\n",
       "      <td>0.004330</td>\n",
       "    </tr>\n",
       "    <tr>\n",
       "      <th>3583</th>\n",
       "      <td>ATL</td>\n",
       "      <td>Hartsfield Jackson Atlanta Intl</td>\n",
       "      <td>Atlanta</td>\n",
       "      <td>United States</td>\n",
       "      <td>0.004270</td>\n",
       "    </tr>\n",
       "  </tbody>\n",
       "</table>\n",
       "</div>"
      ],
      "text/plain": [
       "     IATA                          airport         city         country  \\\n",
       "3385  LAX                 Los Angeles Intl  Los Angeles   United States   \n",
       "3731  ORD               Chicago Ohare Intl      Chicago   United States   \n",
       "3652  DEN                      Denver Intl       Denver   United States   \n",
       "503   LHR                         Heathrow       London  United Kingdom   \n",
       "3583  ATL  Hartsfield Jackson Atlanta Intl      Atlanta   United States   \n",
       "\n",
       "      pagerank  \n",
       "3385  0.005595  \n",
       "3731  0.005565  \n",
       "3652  0.005555  \n",
       "503   0.004330  \n",
       "3583  0.004270  "
      ]
     },
     "execution_count": 202,
     "metadata": {},
     "output_type": "execute_result"
    }
   ],
   "source": [
    "# Here we compare results of our pagerank implementation\n",
    "# with networkx's implementation\n",
    "\n",
    "pr = nx.pagerank(G, alpha=0.85)\n",
    "for a in airports_info:\n",
    "    try:\n",
    "        score = pr[airports[a[\"IATA\"]]]\n",
    "        a[\"pagerank\"] = score\n",
    "    except:\n",
    "        pass\n",
    "df = pd.DataFrame(airports_info)\n",
    "df = df.sort([\"pagerank\"], ascending=[0])\n",
    "df.head()"
   ]
  }
 ],
 "metadata": {
  "kernelspec": {
   "display_name": "Python 2",
   "language": "python",
   "name": "python2"
  },
  "language_info": {
   "codemirror_mode": {
    "name": "ipython",
    "version": 2
   },
   "file_extension": ".py",
   "mimetype": "text/x-python",
   "name": "python",
   "nbconvert_exporter": "python",
   "pygments_lexer": "ipython2",
   "version": "2.7.9"
  }
 },
 "nbformat": 4,
 "nbformat_minor": 0
}
