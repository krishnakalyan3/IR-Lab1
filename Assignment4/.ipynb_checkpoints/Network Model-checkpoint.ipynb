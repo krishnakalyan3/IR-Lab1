{
 "cells": [
  {
   "cell_type": "code",
   "execution_count": 8,
   "metadata": {
    "collapsed": false
   },
   "outputs": [
    {
     "name": "stdout",
     "output_type": "stream",
     "text": [
      "Once deleted, variables cannot be recovered. Proceed (y/[n])? \n",
      "Nothing done.\n"
     ]
    }
   ],
   "source": [
    "%reset"
   ]
  },
  {
   "cell_type": "code",
   "execution_count": 1,
   "metadata": {
    "collapsed": true
   },
   "outputs": [],
   "source": [
    "%matplotlib inline\n",
    "import networkx as nx\n",
    "import numpy as np\n",
    "import matplotlib.pyplot as plt\n",
    "import random"
   ]
  },
  {
   "cell_type": "markdown",
   "metadata": {
    "collapsed": true
   },
   "source": [
    "## Erdos-Renyi model"
   ]
  },
  {
   "cell_type": "code",
   "execution_count": 2,
   "metadata": {
    "collapsed": false
   },
   "outputs": [],
   "source": [
    "class AggregationWrapper(object):\n",
    "    def __init__(self, instance = 1):\n",
    "        self.instance = random.sample(range(1000), instance)\n",
    "        self.constant_k = 4\n",
    "        self.constant_n = 500\n",
    "        self.avg_deg = 13\n",
    "        \n",
    "    def graph_er(self, nodes):\n",
    "        aspl_vals = []\n",
    "        for n in nodes:\n",
    "            p = 1.0 * self.avg_deg/(n-1)\n",
    "            G = nx.fast_gnp_random_graph(n, p, seed=self.instance[0])\n",
    "            aspl = nx.average_shortest_path_length(G)\n",
    "            data = (n,p,aspl)\n",
    "            aspl_vals.append(data)\n",
    "        return aspl_vals\n",
    "    \n",
    "    def graph_wr_aggregation(self, pvalue):\n",
    "        avger_dict_cluster = {}\n",
    "        avger_dict_aspl = {}\n",
    "\n",
    "        for i in self.instance:\n",
    "            for p in pvalue:\n",
    "                G1 = nx.watts_strogatz_graph(self.constant_n, self.constant_k, p, seed=i)\n",
    "                avg_cluster = nx.average_clustering(G1)\n",
    "                aspl = nx.average_shortest_path_length(G1)\n",
    "                key = p\n",
    "                value_c = avg_cluster\n",
    "                value_aspl = aspl\n",
    "                if key not in avger_dict_cluster:\n",
    "                    avger_dict_cluster[key] = 1.0 * value_c/len(self.instance)\n",
    "                    avger_dict_aspl[key] = 1.0 * value_aspl/len(self.instance)\n",
    "                else:\n",
    "                    avger_dict_cluster[key] += 1.0 * value_c/len(self.instance)\n",
    "                    avger_dict_aspl[key] += 1.0 * value_aspl/len(self.instance)\n",
    "                    \n",
    "        ds = [avger_dict_cluster, avger_dict_aspl]\n",
    "        d = {}\n",
    "        for k in avger_dict_cluster.iterkeys():\n",
    "            d[k] = tuple(d[k] for d in ds)\n",
    "        \n",
    "        return d"
   ]
  },
  {
   "cell_type": "code",
   "execution_count": 3,
   "metadata": {
    "collapsed": true
   },
   "outputs": [],
   "source": [
    "nodes_fixed = np.logspace(2,4,num=20,base=10,dtype='int')\n",
    "#nodes = [70,100,500,1000,4000,6000]\n",
    "#nodes_small = [70,100,250, 500, 600, 800, 1000]"
   ]
  },
  {
   "cell_type": "code",
   "execution_count": null,
   "metadata": {
    "collapsed": false
   },
   "outputs": [],
   "source": [
    "av = AggregationWrapper()\n",
    "plot_data = av.graph_er(nodes_fixed)"
   ]
  },
  {
   "cell_type": "code",
   "execution_count": null,
   "metadata": {
    "collapsed": true
   },
   "outputs": [],
   "source": [
    "x = []\n",
    "y = []\n",
    "for i in range(0,len(plot_data)):\n",
    "    x.append(plot_data[i][0])\n",
    "    y.append(plot_data[i][2])\n",
    "    "
   ]
  },
  {
   "cell_type": "code",
   "execution_count": null,
   "metadata": {
    "collapsed": false
   },
   "outputs": [],
   "source": [
    "plt.plot(x, y,'ro-')\n",
    "plt.xlabel('network size')\n",
    "plt.ylabel('average shortest path length')"
   ]
  },
  {
   "cell_type": "markdown",
   "metadata": {
    "collapsed": true
   },
   "source": [
    "## Watts-Strogatz model"
   ]
  },
  {
   "cell_type": "code",
   "execution_count": null,
   "metadata": {
    "collapsed": true
   },
   "outputs": [],
   "source": [
    "p_val = np.logspace(-4, 0, 15)"
   ]
  },
  {
   "cell_type": "code",
   "execution_count": null,
   "metadata": {
    "collapsed": false
   },
   "outputs": [],
   "source": [
    "av1 = AggregationWrapper(15)\n",
    "data1 = av1.graph_wr_aggregation(p_val)\n",
    "plot_data1 = data1.items()"
   ]
  },
  {
   "cell_type": "code",
   "execution_count": null,
   "metadata": {
    "collapsed": false
   },
   "outputs": [],
   "source": [
    "x1 = []\n",
    "y1 = []\n",
    "z1 = []\n",
    "for i in range(0,len(plot_data1)):\n",
    "    x1.append(plot_data1[i][0])\n",
    "    y1.append(plot_data1[i][1][0])\n",
    "    z1.append(plot_data1[i][1][1])\n",
    "\n",
    "y1 = map(lambda x : x/y1[0], y1)\n",
    "z1 = map(lambda x : x/z1[0], z1)"
   ]
  },
  {
   "cell_type": "code",
   "execution_count": null,
   "metadata": {
    "collapsed": false
   },
   "outputs": [],
   "source": [
    "m = plt.plot(x1, y1,'bo')\n",
    "m = plt.plot(x1, z1,'ro')\n",
    "plt.xscale('log')\n",
    "plt.xlabel('clustering coefficient')\n",
    "plt.ylabel('average shortest path')"
   ]
  }
 ],
 "metadata": {
  "kernelspec": {
   "display_name": "Python 2",
   "language": "python",
   "name": "python2"
  },
  "language_info": {
   "codemirror_mode": {
    "name": "ipython",
    "version": 2
   },
   "file_extension": ".py",
   "mimetype": "text/x-python",
   "name": "python",
   "nbconvert_exporter": "python",
   "pygments_lexer": "ipython2",
   "version": "2.7.9"
  }
 },
 "nbformat": 4,
 "nbformat_minor": 0
}
