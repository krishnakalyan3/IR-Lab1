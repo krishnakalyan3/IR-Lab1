{
 "cells": [
  {
   "cell_type": "code",
   "execution_count": 30,
   "metadata": {
    "collapsed": false
   },
   "outputs": [
    {
     "name": "stdout",
     "output_type": "stream",
     "text": [
      "Once deleted, variables cannot be recovered. Proceed (y/[n])? y\n"
     ]
    }
   ],
   "source": [
    "%reset"
   ]
  },
  {
   "cell_type": "code",
   "execution_count": 31,
   "metadata": {
    "collapsed": true
   },
   "outputs": [],
   "source": [
    "%matplotlib inline\n",
    "import networkx as nx\n",
    "import numpy as np\n",
    "import matplotlib.pyplot as plt\n",
    "import random\n",
    "import seaborn as sns\n",
    "sns.set_style(\"whitegrid\")"
   ]
  },
  {
   "cell_type": "markdown",
   "metadata": {
    "collapsed": true
   },
   "source": [
    "## Erdos-Renyi model"
   ]
  },
  {
   "cell_type": "code",
   "execution_count": 32,
   "metadata": {
    "collapsed": false
   },
   "outputs": [],
   "source": [
    "class AggregationWrapper(object):\n",
    "    '''\n",
    "    Simple Wrapper that implements Erdos-Renyi model and Watts-Strogatz Model\n",
    "    '''\n",
    "    \n",
    "    def __init__(self, instance = 1):\n",
    "        self.instance = random.sample(range(1000), instance)\n",
    "        self.constant_k = 4\n",
    "        self.constant_n = 500\n",
    "        self.avg_deg = 13\n",
    "        \n",
    "    def graph_er(self, nodes):\n",
    "        '''\n",
    "        graph_er method needs a list of vertices for a graph as input\n",
    "        returns :list average shortest paths\n",
    "        '''    \n",
    "        aspl_vals = []\n",
    "        for n in nodes:\n",
    "            p = 1.0 * self.avg_deg/(n-1)\n",
    "            G = nx.fast_gnp_random_graph(n, p)\n",
    "            aspl = nx.average_shortest_path_length(G)\n",
    "            data = (n,p,aspl)\n",
    "            aspl_vals.append(data)\n",
    "        return aspl_vals\n",
    "      \n",
    "    def graph_ws_aggregation(self, pvalue):\n",
    "        '''\n",
    "        graph_ws_aggregation method needs a list probability values as input\n",
    "        returns : dictionary with clustering coefficient and average shortest path for each probability\n",
    "        '''  \n",
    "        dict_agg = {}\n",
    "        for i in self.instance:\n",
    "            div = len(self.instance)\n",
    "            for p in pvalue:\n",
    "                G1 = nx.watts_strogatz_graph(self.constant_n, self.constant_k, p, seed=i)\n",
    "                cluster = nx.average_clustering(G1)\n",
    "                aspl = nx.average_shortest_path_length(G1)\n",
    "                if p not in dict_agg:\n",
    "                    dict_agg[p] = [cluster, aspl]\n",
    "                else:\n",
    "                    dict_agg[p][0] += 1.0 * cluster\n",
    "                    dict_agg[p][1] += 1.0 * aspl\n",
    "            \n",
    "        dict_res = {k : [dict_agg[k][0]/div, dict_agg[k][1]/div] for k in dict_agg.keys()}    \n",
    "        return dict_res"
   ]
  },
  {
   "cell_type": "code",
   "execution_count": 33,
   "metadata": {
    "collapsed": false
   },
   "outputs": [],
   "source": [
    "nodes_fixed = np.logspace(2, 4, num=20, base=10, dtype='int')"
   ]
  },
  {
   "cell_type": "code",
   "execution_count": 34,
   "metadata": {
    "collapsed": false
   },
   "outputs": [],
   "source": [
    "av = AggregationWrapper()\n",
    "plot_data = av.graph_er(nodes_fixed)"
   ]
  },
  {
   "cell_type": "code",
   "execution_count": 35,
   "metadata": {
    "collapsed": false
   },
   "outputs": [],
   "source": [
    "x = [sample[0] for sample in plot_data]\n",
    "y = [sample[2] for sample in plot_data]"
   ]
  },
  {
   "cell_type": "code",
   "execution_count": 36,
   "metadata": {
    "collapsed": false
   },
   "outputs": [
    {
     "data": {
      "text/plain": [
       "<matplotlib.text.Text at 0x108f30990>"
      ]
     },
     "execution_count": 36,
     "metadata": {},
     "output_type": "execute_result"
    },
    {
     "data": {
      "image/png": "[encoded data removed]",
      "text/plain": [
       "<matplotlib.figure.Figure at 0x107e723d0>"
      ]
     },
     "metadata": {},
     "output_type": "display_data"
    }
   ],
   "source": [
    "plt.plot(x, y,'ro-')\n",
    "plt.xlabel('network size')\n",
    "plt.ylabel('average shortest path length')"
   ]
  },
  {
   "cell_type": "markdown",
   "metadata": {
    "collapsed": true
   },
   "source": [
    "## Watts-Strogatz model"
   ]
  },
  {
   "cell_type": "code",
   "execution_count": 37,
   "metadata": {
    "collapsed": true
   },
   "outputs": [],
   "source": [
    "p_val = np.logspace(-3, 0, 25)"
   ]
  },
  {
   "cell_type": "code",
   "execution_count": 38,
   "metadata": {
    "collapsed": false
   },
   "outputs": [],
   "source": [
    "# 1st cluster , 2nd Avgerge shortest path\n",
    "av1 = AggregationWrapper(10)\n",
    "data1 = av1.graph_ws_aggregation(p_val)"
   ]
  },
  {
   "cell_type": "code",
   "execution_count": 39,
   "metadata": {
    "collapsed": false
   },
   "outputs": [],
   "source": [
    "x1 = p_val\n",
    "y1 = [data1[p][0] for p in x1]\n",
    "z1 = [data1[p][1] for p in x1]"
   ]
  },
  {
   "cell_type": "code",
   "execution_count": 40,
   "metadata": {
    "collapsed": false
   },
   "outputs": [],
   "source": [
    "y1 = map(lambda y : y/y1[0], y1)\n",
    "z1 = map(lambda z : z/z1[0], z1)"
   ]
  },
  {
   "cell_type": "code",
   "execution_count": 41,
   "metadata": {
    "collapsed": false
   },
   "outputs": [
    {
     "data": {
      "text/plain": [
       "<matplotlib.text.Text at 0x10825a150>"
      ]
     },
     "execution_count": 41,
     "metadata": {},
     "output_type": "execute_result"
    },
    {
     "data": {
      "image/png": "[encoded data removed]",
      "text/plain": [
       "<matplotlib.figure.Figure at 0x107e97d10>"
      ]
     },
     "metadata": {},
     "output_type": "display_data"
    }
   ],
   "source": [
    "m = plt.plot(x1, y1,'bo')\n",
    "m = plt.plot(x1, z1,'ro')\n",
    "plt.xscale('log')\n",
    "\n",
    "plt.xlabel('clustering coefficient')\n",
    "plt.ylabel('average shortest path')"
   ]
  }
 ],
 "metadata": {
  "kernelspec": {
   "display_name": "Python 2",
   "language": "python",
   "name": "python2"
  },
  "language_info": {
   "codemirror_mode": {
    "name": "ipython",
    "version": 2
   },
   "file_extension": ".py",
   "mimetype": "text/x-python",
   "name": "python",
   "nbconvert_exporter": "python",
   "pygments_lexer": "ipython2",
   "version": "2.7.9"
  }
 },
 "nbformat": 4,
 "nbformat_minor": 0
}
